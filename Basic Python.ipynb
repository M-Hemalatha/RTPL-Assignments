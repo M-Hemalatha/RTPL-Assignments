{
 "cells": [
  {
   "cell_type": "code",
   "execution_count": 1,
   "id": "c8874526",
   "metadata": {},
   "outputs": [
    {
     "name": "stdout",
     "output_type": "stream",
     "text": [
      "hema\n",
      "latha\n"
     ]
    }
   ],
   "source": [
    "# Strings\n",
    "v1 = \"hema\"\n",
    "v2 = \"latha\"\n",
    "print(v1)\n",
    "print(v2)\n"
   ]
  },
  {
   "cell_type": "code",
   "execution_count": 2,
   "id": "0f9d5fdc",
   "metadata": {},
   "outputs": [
    {
     "name": "stdout",
     "output_type": "stream",
     "text": [
      "None\n"
     ]
    }
   ],
   "source": [
    "#Special literal none\n",
    "valuenone = None;\n",
    "print(valuenone)"
   ]
  },
  {
   "cell_type": "code",
   "execution_count": 5,
   "id": "579ee491",
   "metadata": {},
   "outputs": [
    {
     "name": "stdout",
     "output_type": "stream",
     "text": [
      "helloworld\n"
     ]
    }
   ],
   "source": [
    "#important of backslash\n",
    "text = 'hello\\\n",
    "world'\n",
    "print(text)"
   ]
  },
  {
   "cell_type": "code",
   "execution_count": 6,
   "id": "cf3a0cee",
   "metadata": {},
   "outputs": [
    {
     "name": "stdout",
     "output_type": "stream",
     "text": [
      "i'm from madurai\n",
      "studing B.Tech information technology\n",
      "in KLNCE\n"
     ]
    }
   ],
   "source": [
    "#multiline string\n",
    "multext = '''i'm from madurai\n",
    "studing B.Tech information technology\n",
    "in KLNCE'''\n",
    "print(multext)"
   ]
  },
  {
   "cell_type": "code",
   "execution_count": 7,
   "id": "989846a1",
   "metadata": {},
   "outputs": [
    {
     "name": "stdout",
     "output_type": "stream",
     "text": [
      "12\n",
      "8\n",
      "20\n",
      "5.0\n",
      "0\n",
      "100\n"
     ]
    }
   ],
   "source": [
    "#Arithmetic Operators\n",
    "# +,-,*,/,%,**\n",
    "print(10+2)\n",
    "print(10-2)\n",
    "print(10*2)\n",
    "print(10/2)\n",
    "print(10%2)\n",
    "print(10**2)"
   ]
  },
  {
   "cell_type": "code",
   "execution_count": 8,
   "id": "76fb5f9b",
   "metadata": {},
   "outputs": [
    {
     "name": "stdout",
     "output_type": "stream",
     "text": [
      "30\n",
      "-10\n"
     ]
    }
   ],
   "source": [
    "#Assignment Operators\n",
    "# =,+=,-=,/=,*=,.....\n",
    "a=10\n",
    "b=20\n",
    "a+=b\n",
    "b-=a\n",
    "print(a)\n",
    "print(b)"
   ]
  },
  {
   "cell_type": "code",
   "execution_count": 9,
   "id": "c9faa959",
   "metadata": {},
   "outputs": [
    {
     "name": "stdout",
     "output_type": "stream",
     "text": [
      "False\n",
      "True\n",
      "False\n",
      "True\n"
     ]
    }
   ],
   "source": [
    "#Comparison Operator\n",
    "print(5>9)\n",
    "print(10<20)\n",
    "print(23=='23')\n",
    "print('hema'=='hema')"
   ]
  },
  {
   "cell_type": "code",
   "execution_count": 17,
   "id": "7cef03ea",
   "metadata": {},
   "outputs": [
    {
     "name": "stdout",
     "output_type": "stream",
     "text": [
      "False\n",
      "True\n",
      "False\n"
     ]
    }
   ],
   "source": [
    "#Logical operator AND OR  NOT\n",
    "x,y=30,10\n",
    "com=x>10 and y>20\n",
    "print(com)\n",
    "com2=x>10 or y>20\n",
    "print(com2)\n",
    "com3=x>10 & y>20\n",
    "print(com3)"
   ]
  },
  {
   "cell_type": "code",
   "execution_count": 19,
   "id": "1084c244",
   "metadata": {},
   "outputs": [
    {
     "name": "stdout",
     "output_type": "stream",
     "text": [
      "0\n",
      "3\n"
     ]
    }
   ],
   "source": [
    "#Bitwise Operators & |\n",
    "print(4&2) #convert dec into bin , perform and logic operation\n",
    "print(2|1)#convert dec into bin , perform or logic operation"
   ]
  },
  {
   "cell_type": "code",
   "execution_count": 22,
   "id": "0ef3d0c2",
   "metadata": {},
   "outputs": [
    {
     "name": "stdout",
     "output_type": "stream",
     "text": [
      "True\n",
      "True\n",
      "False\n"
     ]
    }
   ],
   "source": [
    "#Identity Operator\n",
    "x = 10\n",
    "y = 10\n",
    "print(x == y) # is\n",
    "print(y != 20)# is not\n",
    "print(2 == x)# is"
   ]
  },
  {
   "cell_type": "code",
   "execution_count": 23,
   "id": "2714da94",
   "metadata": {},
   "outputs": [
    {
     "name": "stdout",
     "output_type": "stream",
     "text": [
      "False\n",
      "True\n"
     ]
    }
   ],
   "source": [
    "#MemberShip Operator\n",
    "chars = ['hema','latha','kd']\n",
    "print('hem' in chars)\n",
    "print('kd' in chars)"
   ]
  },
  {
   "cell_type": "code",
   "execution_count": 24,
   "id": "dd4f0575",
   "metadata": {},
   "outputs": [
    {
     "name": "stdout",
     "output_type": "stream",
     "text": [
      "<class 'str'>\n",
      "<class 'float'>\n",
      "<class 'int'>\n",
      "<class 'complex'>\n"
     ]
    }
   ],
   "source": [
    "#DataTypes in python\n",
    "message = \"it is a string\"\n",
    "floating = 123.442\n",
    "integer = 2323\n",
    "complex = 12+2j\n",
    " # 'type' function is used to indentify the data type\n",
    "print(type(message))\n",
    "print(type(floating))\n",
    "print(type(integer))\n",
    "print(type(complex))"
   ]
  },
  {
   "cell_type": "code",
   "execution_count": 27,
   "id": "3415f863",
   "metadata": {},
   "outputs": [
    {
     "name": "stdout",
     "output_type": "stream",
     "text": [
      "i\n",
      "This \n",
      "g\n",
      "is strin\n"
     ]
    }
   ],
   "source": [
    "#String Operations\n",
    "#Slicing\n",
    "# slice the data from give range[strat vaue:before end value]\n",
    "str1 = \"This is string\"\n",
    "print(str1[2])\n",
    "print(str1[0:5])\n",
    "print(str1[-1])  \n",
    "print((str1[5:-1]))"
   ]
  },
  {
   "cell_type": "code",
   "execution_count": 28,
   "id": "aa18d96f",
   "metadata": {},
   "outputs": [
    {
     "name": "stdout",
     "output_type": "stream",
     "text": [
      "-1\n",
      "0\n"
     ]
    }
   ],
   "source": [
    "# find method used to check the given string is present or not \n",
    "print(str1.find('this'))\n",
    "print(str1.find('This'))"
   ]
  },
  {
   "cell_type": "code",
   "execution_count": 30,
   "id": "bef405de",
   "metadata": {},
   "outputs": [
    {
     "data": {
      "text/plain": [
       "'This is Sentence'"
      ]
     },
     "execution_count": 30,
     "metadata": {},
     "output_type": "execute_result"
    }
   ],
   "source": [
    "#replace()\n",
    "# used to change the content in the string \n",
    "str1.replace(\"string\",\"Sentence\")"
   ]
  },
  {
   "cell_type": "code",
   "execution_count": 33,
   "id": "0386cd5f",
   "metadata": {},
   "outputs": [
    {
     "data": {
      "text/plain": [
       "['Th', 's ', 's str', 'ng']"
      ]
     },
     "execution_count": 33,
     "metadata": {},
     "output_type": "execute_result"
    }
   ],
   "source": [
    "#Split()\n",
    "# used to split the string sentence by using the given arg and stored them in the list \n",
    "ans = str1.split('i')\n",
    "ans"
   ]
  },
  {
   "cell_type": "code",
   "execution_count": 35,
   "id": "a585e0a9",
   "metadata": {},
   "outputs": [
    {
     "name": "stdout",
     "output_type": "stream",
     "text": [
      "[1, 2, 3, 4, 5]\n",
      "['a', 'b', 'c']\n",
      "[1, 2, 3, 4, 5, 6]\n",
      "['a', 'b', 'c', 8]\n",
      "[1, 2, 3, 4, 5, 6, 'a', 'b', 'c', 8]\n",
      "[1, 2, 3]\n"
     ]
    }
   ],
   "source": [
    "#List \n",
    "#list is mutable\n",
    "a = [1,2,3,4,5]\n",
    "b=[\"a\",\"b\",\"c\"]\n",
    "print(a)\n",
    "print(b)\n",
    "a.append(6)\n",
    "b.append(8)\n",
    "print(a)\n",
    "print(b)\n",
    "a.extend(b)\n",
    "print(a)\n",
    "print(a[0:3])"
   ]
  },
  {
   "cell_type": "code",
   "execution_count": 41,
   "id": "354093f6",
   "metadata": {},
   "outputs": [
    {
     "name": "stdout",
     "output_type": "stream",
     "text": [
      "('a', 'b', 'c', 'd')\n",
      "b\n",
      "('b', 'c', 'd')\n"
     ]
    }
   ],
   "source": [
    "#Tuple\n",
    "myTuple = ('a','b','c','d')\n",
    "print(myTuple)\n",
    "#it is immutable\n",
    "# myTuple[2] = \"2\" it gives error\n",
    "print(myTuple[1])\n",
    "print(myTuple[1:4])"
   ]
  },
  {
   "cell_type": "code",
   "execution_count": 42,
   "id": "cde45c13",
   "metadata": {},
   "outputs": [
    {
     "data": {
      "text/plain": [
       "'b'"
      ]
     },
     "execution_count": 42,
     "metadata": {},
     "output_type": "execute_result"
    }
   ],
   "source": [
    "myTuple[1]"
   ]
  },
  {
   "cell_type": "code",
   "execution_count": 45,
   "id": "43530a1b",
   "metadata": {},
   "outputs": [
    {
     "data": {
      "text/plain": [
       "{1: 'Apple', 2: 'banana', 3: 'orange', 4: 'mango'}"
      ]
     },
     "execution_count": 45,
     "metadata": {},
     "output_type": "execute_result"
    }
   ],
   "source": [
    "#Dictionary-key value pairs\n",
    "myDict = {\n",
    "    1: 'Apple',\n",
    "    2: 'banana',\n",
    "    3: 'orange',\n",
    "    4: 'mango'\n",
    "    }\n",
    "myDict"
   ]
  },
  {
   "cell_type": "code",
   "execution_count": 46,
   "id": "1fb953fb",
   "metadata": {},
   "outputs": [
    {
     "data": {
      "text/plain": [
       "'orange'"
      ]
     },
     "execution_count": 46,
     "metadata": {},
     "output_type": "execute_result"
    }
   ],
   "source": [
    "myDict[3]"
   ]
  },
  {
   "cell_type": "code",
   "execution_count": 48,
   "id": "fc7e678a",
   "metadata": {},
   "outputs": [
    {
     "name": "stdout",
     "output_type": "stream",
     "text": [
      "dict_keys([1, 2, 3, 4])\n"
     ]
    },
    {
     "data": {
      "text/plain": [
       "dict_values(['Apple', 'banana', 'orange', 'mango'])"
      ]
     },
     "execution_count": 48,
     "metadata": {},
     "output_type": "execute_result"
    }
   ],
   "source": [
    "print(myDict.keys())\n",
    "myDict.values()"
   ]
  },
  {
   "cell_type": "code",
   "execution_count": 49,
   "id": "f854fd99",
   "metadata": {},
   "outputs": [
    {
     "name": "stdout",
     "output_type": "stream",
     "text": [
      "{1, 2, 3, 4, 5, 6, 7}\n"
     ]
    }
   ],
   "source": [
    "#Set \n",
    "# set does not print repeated data\n",
    "mySet = {1,2,3,1,2,3,1,2,3,3,3,3,4,4,5,6,7,7}\n",
    "print(mySet)"
   ]
  },
  {
   "cell_type": "code",
   "execution_count": 50,
   "id": "6c27856c",
   "metadata": {},
   "outputs": [
    {
     "data": {
      "text/plain": [
       "{1, 2, 3, 4, 'a', 'b', 'c'}"
      ]
     },
     "execution_count": 50,
     "metadata": {},
     "output_type": "execute_result"
    }
   ],
   "source": [
    "#pipe to merge sets (Union)|\n",
    "# union - prints all the data in both the sets without repeation \n",
    "set1={1,2,4,'a','b','c'}\n",
    "set2={'a','c',3,4}\n",
    "set1|set2"
   ]
  },
  {
   "cell_type": "code",
   "execution_count": 51,
   "id": "fb42ca9f",
   "metadata": {},
   "outputs": [
    {
     "data": {
      "text/plain": [
       "{4, 'a', 'c'}"
      ]
     },
     "execution_count": 51,
     "metadata": {},
     "output_type": "execute_result"
    }
   ],
   "source": [
    "#intersection - prints the data which is in both the sets\n",
    "set1&set2"
   ]
  },
  {
   "cell_type": "code",
   "execution_count": 52,
   "id": "ae70e742",
   "metadata": {},
   "outputs": [
    {
     "data": {
      "text/plain": [
       "{1, 2, 'b'}"
      ]
     },
     "execution_count": 52,
     "metadata": {},
     "output_type": "execute_result"
    }
   ],
   "source": [
    "#difference - it reduce the same data in both the sets and prints the remaining data in the 1st set\n",
    "set1-set2"
   ]
  },
  {
   "cell_type": "code",
   "execution_count": 53,
   "id": "ebd65c86",
   "metadata": {},
   "outputs": [
    {
     "name": "stdout",
     "output_type": "stream",
     "text": [
      "Your age is 18\n"
     ]
    }
   ],
   "source": [
    "#Control flow\n",
    "age=18\n",
    "if(age==18):\n",
    "    print('Your age is 18')\n",
    "elif(age>18):\n",
    "    print('Your eligible for vote')\n",
    "else:\n",
    "    print('your children')"
   ]
  },
  {
   "cell_type": "code",
   "execution_count": 57,
   "id": "00765508",
   "metadata": {},
   "outputs": [
    {
     "name": "stdout",
     "output_type": "stream",
     "text": [
      "peacok\n",
      "pigeon\n",
      "crow\n",
      "parrot\n",
      "squirrel\n"
     ]
    }
   ],
   "source": [
    "#for loop\n",
    "birds = ['peacok','pigeon','crow','parrot','squirrel']\n",
    "for i in birds: # default value for loop range is 0\n",
    "    print(i)"
   ]
  },
  {
   "cell_type": "code",
   "execution_count": 58,
   "id": "bd7d3479",
   "metadata": {},
   "outputs": [
    {
     "name": "stdout",
     "output_type": "stream",
     "text": [
      "1: Odd\n",
      "2: Even\n",
      "3: Odd\n",
      "4: Even\n",
      "5: Odd\n",
      "6: Even\n",
      "7: Odd\n",
      "8: Even\n",
      "9: Odd\n",
      "10: Even\n"
     ]
    }
   ],
   "source": [
    "for i in range(1,11):\n",
    "    if(i%2==0):\n",
    "        print(str(i)+\": Even\")\n",
    "    else:\n",
    "        print(str(i)+\": Odd\")"
   ]
  },
  {
   "cell_type": "code",
   "execution_count": 59,
   "id": "08f2e68d",
   "metadata": {},
   "outputs": [
    {
     "name": "stdout",
     "output_type": "stream",
     "text": [
      "Welcome\n"
     ]
    }
   ],
   "source": [
    "#Functions in Python\n",
    "def welcome():\n",
    "    print(\"Welcome\")\n",
    "welcome()"
   ]
  },
  {
   "cell_type": "code",
   "execution_count": 60,
   "id": "c812e673",
   "metadata": {},
   "outputs": [
    {
     "name": "stdout",
     "output_type": "stream",
     "text": [
      "['A', 'B', 'C']\n",
      "['E', 'D']\n"
     ]
    }
   ],
   "source": [
    "def set_list(list):\n",
    "    list = [\"A\", \"B\", \"C\"]\n",
    "    return list\n",
    "  \n",
    "def add(list):\n",
    "    list.append(\"D\")\n",
    "    return list\n",
    "  \n",
    "my_list = [\"E\"]\n",
    "  \n",
    "print(set_list(my_list))\n",
    "  \n",
    "print(add(my_list))"
   ]
  },
  {
   "cell_type": "code",
   "execution_count": 61,
   "id": "898884d4",
   "metadata": {},
   "outputs": [
    {
     "data": {
      "text/plain": [
       "8"
      ]
     },
     "execution_count": 61,
     "metadata": {},
     "output_type": "execute_result"
    }
   ],
   "source": [
    "x = lambda a,b: a*b\n",
    "x(2,4)"
   ]
  },
  {
   "cell_type": "code",
   "execution_count": 62,
   "id": "c2d46b2e",
   "metadata": {},
   "outputs": [
    {
     "data": {
      "text/plain": [
       "6"
      ]
     },
     "execution_count": 62,
     "metadata": {},
     "output_type": "execute_result"
    }
   ],
   "source": [
    "x = lambda a,b: a+b\n",
    "x(2,4)"
   ]
  },
  {
   "cell_type": "code",
   "execution_count": 63,
   "id": "604a56f1",
   "metadata": {},
   "outputs": [
    {
     "data": {
      "text/plain": [
       "-2"
      ]
     },
     "execution_count": 63,
     "metadata": {},
     "output_type": "execute_result"
    }
   ],
   "source": [
    "x = lambda a,b: a-b\n",
    "x(2,4)"
   ]
  },
  {
   "cell_type": "code",
   "execution_count": null,
   "id": "45c7fd83",
   "metadata": {},
   "outputs": [],
   "source": []
  },
  {
   "cell_type": "code",
   "execution_count": null,
   "id": "488e8aba",
   "metadata": {},
   "outputs": [],
   "source": []
  }
 ],
 "metadata": {
  "kernelspec": {
   "display_name": "Python 3",
   "language": "python",
   "name": "python3"
  },
  "language_info": {
   "codemirror_mode": {
    "name": "ipython",
    "version": 3
   },
   "file_extension": ".py",
   "mimetype": "text/x-python",
   "name": "python",
   "nbconvert_exporter": "python",
   "pygments_lexer": "ipython3",
   "version": "3.8.8"
  }
 },
 "nbformat": 4,
 "nbformat_minor": 5
}
