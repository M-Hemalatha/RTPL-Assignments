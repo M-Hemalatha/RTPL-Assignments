{
 "cells": [
  {
   "cell_type": "code",
   "execution_count": 1,
   "id": "f24acdab",
   "metadata": {},
   "outputs": [],
   "source": [
    "# Numpy\n",
    "import numpy as np"
   ]
  },
  {
   "cell_type": "code",
   "execution_count": 2,
   "id": "23bc06ad",
   "metadata": {},
   "outputs": [
    {
     "data": {
      "text/plain": [
       "array([1, 2, 3, 4, 5])"
      ]
     },
     "execution_count": 2,
     "metadata": {},
     "output_type": "execute_result"
    }
   ],
   "source": [
    "a = np.array([1,2,3,4,5])\n",
    "a"
   ]
  },
  {
   "cell_type": "code",
   "execution_count": 4,
   "id": "956e8b0f",
   "metadata": {},
   "outputs": [
    {
     "data": {
      "text/plain": [
       "array([[1, 2, 3],\n",
       "       [4, 5, 6],\n",
       "       [7, 8, 9]])"
      ]
     },
     "execution_count": 4,
     "metadata": {},
     "output_type": "execute_result"
    }
   ],
   "source": [
    "b = np.array([[1,2,3],[4,5,6],[7,8,9]])\n",
    "b"
   ]
  },
  {
   "cell_type": "code",
   "execution_count": 5,
   "id": "489acfc2",
   "metadata": {},
   "outputs": [
    {
     "data": {
      "text/plain": [
       "2"
      ]
     },
     "execution_count": 5,
     "metadata": {},
     "output_type": "execute_result"
    }
   ],
   "source": [
    "b[0][1]"
   ]
  },
  {
   "cell_type": "code",
   "execution_count": 6,
   "id": "59963bea",
   "metadata": {},
   "outputs": [
    {
     "data": {
      "text/plain": [
       "array([[0., 0., 0.],\n",
       "       [0., 0., 0.],\n",
       "       [0., 0., 0.]])"
      ]
     },
     "execution_count": 6,
     "metadata": {},
     "output_type": "execute_result"
    }
   ],
   "source": [
    "z = np.zeros((3,3))\n",
    "z"
   ]
  },
  {
   "cell_type": "code",
   "execution_count": 8,
   "id": "07bb9155",
   "metadata": {},
   "outputs": [
    {
     "data": {
      "text/plain": [
       "array([[1., 1.],\n",
       "       [1., 1.]])"
      ]
     },
     "execution_count": 8,
     "metadata": {},
     "output_type": "execute_result"
    }
   ],
   "source": [
    "o = np.ones((2,2))\n",
    "o"
   ]
  },
  {
   "cell_type": "code",
   "execution_count": 9,
   "id": "cc4d98b5",
   "metadata": {},
   "outputs": [
    {
     "data": {
      "text/plain": [
       "array([ 1,  2,  3,  4,  5,  6,  7,  8,  9, 10, 11, 12, 13, 14, 15, 16, 17,\n",
       "       18, 19])"
      ]
     },
     "execution_count": 9,
     "metadata": {},
     "output_type": "execute_result"
    }
   ],
   "source": [
    "np.arange(1,20)"
   ]
  },
  {
   "cell_type": "code",
   "execution_count": 10,
   "id": "e86d4782",
   "metadata": {},
   "outputs": [
    {
     "data": {
      "text/plain": [
       "array([ 1,  3,  5,  7,  9, 11, 13, 15, 17, 19])"
      ]
     },
     "execution_count": 10,
     "metadata": {},
     "output_type": "execute_result"
    }
   ],
   "source": [
    "np.arange(1,20,2)"
   ]
  },
  {
   "cell_type": "code",
   "execution_count": 11,
   "id": "5df95df3",
   "metadata": {},
   "outputs": [
    {
     "data": {
      "text/plain": [
       "array([10, 13, 16, 19])"
      ]
     },
     "execution_count": 11,
     "metadata": {},
     "output_type": "execute_result"
    }
   ],
   "source": [
    "np.arange(10,20,3)"
   ]
  },
  {
   "cell_type": "code",
   "execution_count": 12,
   "id": "6fdc21b9",
   "metadata": {},
   "outputs": [
    {
     "data": {
      "text/plain": [
       "array([10.        , 10.34482759, 10.68965517, 11.03448276, 11.37931034,\n",
       "       11.72413793, 12.06896552, 12.4137931 , 12.75862069, 13.10344828,\n",
       "       13.44827586, 13.79310345, 14.13793103, 14.48275862, 14.82758621,\n",
       "       15.17241379, 15.51724138, 15.86206897, 16.20689655, 16.55172414,\n",
       "       16.89655172, 17.24137931, 17.5862069 , 17.93103448, 18.27586207,\n",
       "       18.62068966, 18.96551724, 19.31034483, 19.65517241, 20.        ])"
      ]
     },
     "execution_count": 12,
     "metadata": {},
     "output_type": "execute_result"
    }
   ],
   "source": [
    "#Randomly(linearly divided baseed on count) give the numbers based on count between x and y (x,y,count)\n",
    "np.linspace(10,20,30)"
   ]
  },
  {
   "cell_type": "code",
   "execution_count": 14,
   "id": "343ef759",
   "metadata": {},
   "outputs": [
    {
     "data": {
      "text/plain": [
       "array([ 0.,  2.,  4.,  6.,  8., 10.])"
      ]
     },
     "execution_count": 14,
     "metadata": {},
     "output_type": "execute_result"
    }
   ],
   "source": [
    "#Even\n",
    "np.linspace(0,10,6)"
   ]
  },
  {
   "cell_type": "code",
   "execution_count": 15,
   "id": "861facc4",
   "metadata": {},
   "outputs": [
    {
     "data": {
      "text/plain": [
       "array([ 1., 10.])"
      ]
     },
     "execution_count": 15,
     "metadata": {},
     "output_type": "execute_result"
    }
   ],
   "source": [
    "np.linspace(1,10,2)"
   ]
  },
  {
   "cell_type": "code",
   "execution_count": 17,
   "id": "fe02441a",
   "metadata": {},
   "outputs": [
    {
     "data": {
      "text/plain": [
       "array([6.95193854e-310, 5.83344943e-302])"
      ]
     },
     "execution_count": 17,
     "metadata": {},
     "output_type": "execute_result"
    }
   ],
   "source": [
    "# np.empty creates empty array with given arguments\n",
    "np.empty(2)"
   ]
  },
  {
   "cell_type": "code",
   "execution_count": 18,
   "id": "3ee861ae",
   "metadata": {},
   "outputs": [],
   "source": []
  },
  {
   "cell_type": "code",
   "execution_count": 21,
   "id": "a2b5626e",
   "metadata": {},
   "outputs": [
    {
     "data": {
      "text/plain": [
       "array([0.26158696, 0.02387438, 0.65971085, 0.803773  , 0.25654735,\n",
       "       0.49879376, 0.07015735, 0.95791415, 0.25789289, 0.07086978])"
      ]
     },
     "execution_count": 21,
     "metadata": {},
     "output_type": "execute_result"
    }
   ],
   "source": [
    "np.random.rand(10)"
   ]
  },
  {
   "cell_type": "code",
   "execution_count": 20,
   "id": "3ad8532e",
   "metadata": {},
   "outputs": [
    {
     "data": {
      "text/plain": [
       "array([[10, 10, 10],\n",
       "       [10, 10, 10],\n",
       "       [10, 10, 10]])"
      ]
     },
     "execution_count": 20,
     "metadata": {},
     "output_type": "execute_result"
    }
   ],
   "source": [
    "#fill matric with given argument\n",
    "np.full((3,3),10)"
   ]
  },
  {
   "cell_type": "code",
   "execution_count": 23,
   "id": "bb8103a9",
   "metadata": {},
   "outputs": [
    {
     "data": {
      "text/plain": [
       "array([[0.87532468, 0.5370153 , 0.66187293, 0.38784842],\n",
       "       [0.57312739, 0.50002519, 0.66133681, 0.79520467]])"
      ]
     },
     "execution_count": 23,
     "metadata": {},
     "output_type": "execute_result"
    }
   ],
   "source": [
    "np.random.random((2,4))"
   ]
  },
  {
   "cell_type": "code",
   "execution_count": 24,
   "id": "5a6d138d",
   "metadata": {},
   "outputs": [
    {
     "data": {
      "text/plain": [
       "array([[1, 2, 3, 4, 5],\n",
       "       [6, 7, 8, 9, 0]])"
      ]
     },
     "execution_count": 24,
     "metadata": {},
     "output_type": "execute_result"
    }
   ],
   "source": [
    "td = np.array([[1,2,3,4,5],[6,7,8,9,0]])\n",
    "td"
   ]
  },
  {
   "cell_type": "code",
   "execution_count": 25,
   "id": "b48e1082",
   "metadata": {},
   "outputs": [
    {
     "data": {
      "text/plain": [
       "2"
      ]
     },
     "execution_count": 25,
     "metadata": {},
     "output_type": "execute_result"
    }
   ],
   "source": [
    "td.ndim"
   ]
  },
  {
   "cell_type": "code",
   "execution_count": 26,
   "id": "59a9358d",
   "metadata": {},
   "outputs": [
    {
     "data": {
      "text/plain": [
       "(2, 5)"
      ]
     },
     "execution_count": 26,
     "metadata": {},
     "output_type": "execute_result"
    }
   ],
   "source": [
    "td.shape"
   ]
  },
  {
   "cell_type": "code",
   "execution_count": 28,
   "id": "8d75c670",
   "metadata": {},
   "outputs": [
    {
     "data": {
      "text/plain": [
       "array([2, 3, 6, 1, 8, 4, 5, 9])"
      ]
     },
     "execution_count": 28,
     "metadata": {},
     "output_type": "execute_result"
    }
   ],
   "source": [
    "#Adding , Removing and Sorting array\n",
    "arr = np.array([2, 3, 6, 1, 8, 4, 5, 9])\n",
    "arr"
   ]
  },
  {
   "cell_type": "code",
   "execution_count": 29,
   "id": "71ca8ac7",
   "metadata": {},
   "outputs": [
    {
     "data": {
      "text/plain": [
       "array([1, 2, 3, 4, 5, 6, 8, 9])"
      ]
     },
     "execution_count": 29,
     "metadata": {},
     "output_type": "execute_result"
    }
   ],
   "source": [
    "np.sort(arr)"
   ]
  },
  {
   "cell_type": "code",
   "execution_count": 30,
   "id": "b4347e74",
   "metadata": {},
   "outputs": [
    {
     "data": {
      "text/plain": [
       "array([3, 4, 5, 7, 8, 9])"
      ]
     },
     "execution_count": 30,
     "metadata": {},
     "output_type": "execute_result"
    }
   ],
   "source": [
    "# concatenate two array\n",
    "i = np.array([3,4,5])\n",
    "j = np.array([7,8,9])\n",
    "np.concatenate((i,j))"
   ]
  },
  {
   "cell_type": "code",
   "execution_count": 33,
   "id": "a3d399e0",
   "metadata": {},
   "outputs": [
    {
     "data": {
      "text/plain": [
       "array([3, 4, 5, 7, 8, 9])"
      ]
     },
     "execution_count": 33,
     "metadata": {},
     "output_type": "execute_result"
    }
   ],
   "source": [
    "np.concatenate((i,j),axis =0)"
   ]
  },
  {
   "cell_type": "code",
   "execution_count": 34,
   "id": "bd69a072",
   "metadata": {},
   "outputs": [
    {
     "data": {
      "text/plain": [
       "8"
      ]
     },
     "execution_count": 34,
     "metadata": {},
     "output_type": "execute_result"
    }
   ],
   "source": [
    "arr.size"
   ]
  },
  {
   "cell_type": "code",
   "execution_count": 39,
   "id": "357ec225",
   "metadata": {},
   "outputs": [
    {
     "data": {
      "text/plain": [
       "array([[2, 3, 6, 1],\n",
       "       [8, 4, 5, 9]])"
      ]
     },
     "execution_count": 39,
     "metadata": {},
     "output_type": "execute_result"
    }
   ],
   "source": [
    "arr.reshape(2,4)"
   ]
  },
  {
   "cell_type": "code",
   "execution_count": 41,
   "id": "b774354e",
   "metadata": {},
   "outputs": [
    {
     "data": {
      "text/plain": [
       "38"
      ]
     },
     "execution_count": 41,
     "metadata": {},
     "output_type": "execute_result"
    }
   ],
   "source": [
    "np.sum(arr)"
   ]
  },
  {
   "cell_type": "code",
   "execution_count": 42,
   "id": "2ab33281",
   "metadata": {},
   "outputs": [
    {
     "data": {
      "text/plain": [
       "9"
      ]
     },
     "execution_count": 42,
     "metadata": {},
     "output_type": "execute_result"
    }
   ],
   "source": [
    "np.max(arr)"
   ]
  },
  {
   "cell_type": "code",
   "execution_count": 43,
   "id": "f5f55e70",
   "metadata": {},
   "outputs": [
    {
     "data": {
      "text/plain": [
       "1"
      ]
     },
     "execution_count": 43,
     "metadata": {},
     "output_type": "execute_result"
    }
   ],
   "source": [
    "np.min(arr)"
   ]
  },
  {
   "cell_type": "code",
   "execution_count": 44,
   "id": "f7cd8dac",
   "metadata": {},
   "outputs": [
    {
     "data": {
      "text/plain": [
       "4.75"
      ]
     },
     "execution_count": 44,
     "metadata": {},
     "output_type": "execute_result"
    }
   ],
   "source": [
    "np.mean(arr)"
   ]
  },
  {
   "cell_type": "code",
   "execution_count": 45,
   "id": "031a93fc",
   "metadata": {},
   "outputs": [
    {
     "data": {
      "text/plain": [
       "array([3, 3])"
      ]
     },
     "execution_count": 45,
     "metadata": {},
     "output_type": "execute_result"
    }
   ],
   "source": [
    "np.sum([[1,1],[2,2]],axis = 0)"
   ]
  },
  {
   "cell_type": "code",
   "execution_count": 46,
   "id": "763e7781",
   "metadata": {},
   "outputs": [
    {
     "data": {
      "text/plain": [
       "array([2, 4])"
      ]
     },
     "execution_count": 46,
     "metadata": {},
     "output_type": "execute_result"
    }
   ],
   "source": [
    "np.sum([[1,1],[2,2]],axis=1)"
   ]
  },
  {
   "cell_type": "code",
   "execution_count": 47,
   "id": "baa86e04",
   "metadata": {},
   "outputs": [
    {
     "data": {
      "text/plain": [
       "6"
      ]
     },
     "execution_count": 47,
     "metadata": {},
     "output_type": "execute_result"
    }
   ],
   "source": [
    "np.sum([1,2,3])"
   ]
  },
  {
   "cell_type": "code",
   "execution_count": 48,
   "id": "a4669aa8",
   "metadata": {},
   "outputs": [
    {
     "data": {
      "text/plain": [
       "-1"
      ]
     },
     "execution_count": 48,
     "metadata": {},
     "output_type": "execute_result"
    }
   ],
   "source": [
    "np.subtract(4,5)"
   ]
  },
  {
   "cell_type": "code",
   "execution_count": 49,
   "id": "532e8714",
   "metadata": {},
   "outputs": [
    {
     "data": {
      "text/plain": [
       "5.0"
      ]
     },
     "execution_count": 49,
     "metadata": {},
     "output_type": "execute_result"
    }
   ],
   "source": [
    "np.divide(20,4)"
   ]
  },
  {
   "cell_type": "code",
   "execution_count": 50,
   "id": "b8f12b48",
   "metadata": {},
   "outputs": [
    {
     "data": {
      "text/plain": [
       "8"
      ]
     },
     "execution_count": 50,
     "metadata": {},
     "output_type": "execute_result"
    }
   ],
   "source": [
    "np.multiply(2,4)"
   ]
  },
  {
   "cell_type": "code",
   "execution_count": 51,
   "id": "f686eeff",
   "metadata": {},
   "outputs": [
    {
     "name": "stdout",
     "output_type": "stream",
     "text": [
      "Exponent :  [  2.71828183   7.3890561   20.08553692  54.59815003 148.4131591 ]\n",
      "SquareRoot :  [1.         1.41421356 1.73205081 2.         2.23606798]\n",
      "Sin : [ 0.84147098  0.90929743  0.14112001 -0.7568025  -0.95892427]\n",
      "Cos : [ 0.54030231 -0.41614684 -0.9899925  -0.65364362  0.28366219]\n",
      "Log :  [0.         0.69314718 1.09861229 1.38629436 1.60943791]\n"
     ]
    }
   ],
   "source": [
    "#Math\n",
    "mathod = np.array([2,3,4])\n",
    "print(\"Exponent : \", np.exp(a))\n",
    "print(\"SquareRoot : \",np.sqrt(a))\n",
    "print(\"Sin :\", np.sin(a))\n",
    "print(\"Cos :\",np.cos(a))\n",
    "print(\"Log : \",np.log(a))"
   ]
  },
  {
   "cell_type": "code",
   "execution_count": 52,
   "id": "db2d10cb",
   "metadata": {},
   "outputs": [
    {
     "name": "stdout",
     "output_type": "stream",
     "text": [
      "[False False False  True]\n",
      "[ True  True  True  True]\n"
     ]
    }
   ],
   "source": [
    "#Array Comparison \n",
    "d = np.array([1,2,3,4])\n",
    "e = np.array([9,8,7,4])\n",
    "f = np.array([1,2,3,4])\n",
    "print(np.equal(d,e))\n",
    "print(np.equal(d,f))"
   ]
  },
  {
   "cell_type": "code",
   "execution_count": 53,
   "id": "94120e24",
   "metadata": {},
   "outputs": [
    {
     "name": "stdout",
     "output_type": "stream",
     "text": [
      "False\n",
      "True\n"
     ]
    }
   ],
   "source": [
    "print(np.array_equal(d,e))\n",
    "print(np.array_equal(d,f))"
   ]
  },
  {
   "cell_type": "code",
   "execution_count": 54,
   "id": "e311b380",
   "metadata": {},
   "outputs": [
    {
     "name": "stdout",
     "output_type": "stream",
     "text": [
      "Sum : 97\n",
      "Minumum : 1\n",
      "Maximum :  1\n",
      "Mean : 13.857142857142858\n",
      "Median : 5.0\n",
      "Correlation Coefficient: 1.0\n",
      "Standard deviation  :  16.304500442941436\n"
     ]
    }
   ],
   "source": [
    "a = np.array([1,2,33,45,5,5,6])\n",
    "print(\"Sum :\", np.sum(a))\n",
    "print(\"Minumum :\", np.min(a))\n",
    "print(\"Maximum : \", np.min(a))\n",
    "print(\"Mean :\", np.mean(a))\n",
    "print(\"Median :\", np.median(a))\n",
    "print(\"Correlation Coefficient:\", np.corrcoef(a))\n",
    "print(\"Standard deviation  : \",np.std(a))"
   ]
  },
  {
   "cell_type": "code",
   "execution_count": 55,
   "id": "a331676f",
   "metadata": {},
   "outputs": [
    {
     "data": {
      "text/plain": [
       "3.0"
      ]
     },
     "execution_count": 55,
     "metadata": {},
     "output_type": "execute_result"
    }
   ],
   "source": [
    "n = np.array([1,2,3,21,30])\n",
    "np.mean(n)   #average\n",
    "np.median(n)   #median means middle element"
   ]
  },
  {
   "cell_type": "code",
   "execution_count": 59,
   "id": "eae1a4f3",
   "metadata": {},
   "outputs": [
    {
     "name": "stdout",
     "output_type": "stream",
     "text": [
      "A :\n",
      " [[1 1 2]\n",
      " [3 4 5]\n",
      " [4 4 6]\n",
      " [2 4 3]]\n",
      "b :\n",
      " [1 2 3]\n"
     ]
    }
   ],
   "source": [
    "#concept of broadcasting\n",
    "a1= np.array([[1,1,2],[3,4,5],[4,4,6],[2,4,3]])\n",
    "b1=np.array([1,2,3])\n",
    "print(\"A :\\n\",a1)\n",
    "print(\"b :\\n\",b1)"
   ]
  },
  {
   "cell_type": "code",
   "execution_count": 60,
   "id": "be458fa8",
   "metadata": {},
   "outputs": [
    {
     "data": {
      "text/plain": [
       "array([[2, 3, 5],\n",
       "       [4, 6, 8],\n",
       "       [5, 6, 9],\n",
       "       [3, 6, 6]])"
      ]
     },
     "execution_count": 60,
     "metadata": {},
     "output_type": "execute_result"
    }
   ],
   "source": [
    "a1+b1\n",
    "#here if we notic b is converted into 4x3 array and addition occured"
   ]
  },
  {
   "cell_type": "code",
   "execution_count": 62,
   "id": "8ea697d7",
   "metadata": {},
   "outputs": [
    {
     "data": {
      "text/plain": [
       "array([[1, 1, 2],\n",
       "       [3, 4, 5],\n",
       "       [4, 4, 6],\n",
       "       [2, 4, 3]])"
      ]
     },
     "execution_count": 62,
     "metadata": {},
     "output_type": "execute_result"
    }
   ],
   "source": [
    "a1"
   ]
  },
  {
   "cell_type": "code",
   "execution_count": 64,
   "id": "b84060be",
   "metadata": {},
   "outputs": [
    {
     "data": {
      "text/plain": [
       "array([3, 4, 5])"
      ]
     },
     "execution_count": 64,
     "metadata": {},
     "output_type": "execute_result"
    }
   ],
   "source": [
    "a1[1]"
   ]
  },
  {
   "cell_type": "code",
   "execution_count": 65,
   "id": "8ae31403",
   "metadata": {},
   "outputs": [
    {
     "data": {
      "text/plain": [
       "array([[3, 4, 5],\n",
       "       [4, 4, 6]])"
      ]
     },
     "execution_count": 65,
     "metadata": {},
     "output_type": "execute_result"
    }
   ],
   "source": [
    "a1[1:3]"
   ]
  },
  {
   "cell_type": "code",
   "execution_count": 66,
   "id": "4047ea61",
   "metadata": {},
   "outputs": [
    {
     "data": {
      "text/plain": [
       "array([[1],\n",
       "       [3],\n",
       "       [4],\n",
       "       [2]])"
      ]
     },
     "execution_count": 66,
     "metadata": {},
     "output_type": "execute_result"
    }
   ],
   "source": [
    "a1[0:4,:1]"
   ]
  },
  {
   "cell_type": "code",
   "execution_count": 68,
   "id": "d5ce61ad",
   "metadata": {},
   "outputs": [
    {
     "name": "stdout",
     "output_type": "stream",
     "text": [
      "Size of List :  28000\n",
      "Size of Array :  28\n"
     ]
    }
   ],
   "source": [
    "# Numpy vs List\n",
    "#BY memory\n",
    "\n",
    "import sys\n",
    "#list \n",
    "list =range(1000)\n",
    "print(\"Size of List : \",sys.getsizeof(1)*len(list))\n",
    "\n",
    "#numpyarray\n",
    "arr = np.arange(1000)\n",
    "print(\"Size of Array : \",a.size*a.itemsize)"
   ]
  },
  {
   "cell_type": "code",
   "execution_count": 69,
   "id": "984e0030",
   "metadata": {},
   "outputs": [
    {
     "name": "stdout",
     "output_type": "stream",
     "text": [
      "Time taken by List :  0.7097704410552979\n",
      "Time taken by NumPy : 0.1218259334564209\n"
     ]
    }
   ],
   "source": [
    "#Speed wise\n",
    "import time\n",
    "size = 1000000  \n",
    "#List\n",
    "list1 = range(size)\n",
    "list2 = range(size)\n",
    "   \n",
    "#arrays\n",
    "array1 = np.arange(size)  \n",
    "array2 = np.arange(size)\n",
    "   \n",
    "#before time\n",
    "initialTime = time.time()\n",
    "  \n",
    "# multiplying  elements of both the lists and stored in another list\n",
    "resultantList = [(a * b) for a, b in zip(list1, list2)]\n",
    "   \n",
    "# calculating execution time\n",
    "print(\"Time taken by List : \",(time.time() - initialTime))\n",
    "   \n",
    "# Before time\n",
    "initialTime = time.time()\n",
    "  \n",
    "#after time\n",
    "resultantArray = array1 * array2\n",
    "   \n",
    "# calculating execution time \n",
    "print(\"Time taken by NumPy :\",(time.time() - initialTime))"
   ]
  },
  {
   "cell_type": "code",
   "execution_count": null,
   "id": "914601ad",
   "metadata": {},
   "outputs": [],
   "source": []
  },
  {
   "cell_type": "code",
   "execution_count": null,
   "id": "5f9ad8dc",
   "metadata": {},
   "outputs": [],
   "source": []
  }
 ],
 "metadata": {
  "kernelspec": {
   "display_name": "Python 3",
   "language": "python",
   "name": "python3"
  },
  "language_info": {
   "codemirror_mode": {
    "name": "ipython",
    "version": 3
   },
   "file_extension": ".py",
   "mimetype": "text/x-python",
   "name": "python",
   "nbconvert_exporter": "python",
   "pygments_lexer": "ipython3",
   "version": "3.8.8"
  }
 },
 "nbformat": 4,
 "nbformat_minor": 5
}
